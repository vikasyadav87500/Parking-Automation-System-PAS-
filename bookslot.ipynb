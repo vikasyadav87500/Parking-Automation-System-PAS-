{
 "cells": [
  {
   "cell_type": "code",
   "execution_count": 36,
   "metadata": {},
   "outputs": [],
   "source": [
    "import pandas as pd\n",
    "import numpy as np\n",
    "threshold = 5\n",
    "def bookslot(plate_number ):\n",
    "    csv_file = pd.read_excel(\"plat_to_model.xlsx\")\n",
    "        \n",
    "    csv_file = csv_file.values\n",
    "    attributes =[]\n",
    "    print(csv_file)\n",
    "                #loop through csv list\n",
    "    number =plate_number \n",
    "    for row in csv_file:\n",
    "                    #if current rows 2nd value is equal to input, print that row\n",
    "        if number == row[0]:\n",
    "            attributes = row\n",
    "            break\n",
    "\n",
    "    if(  attributes[1] ==  \"car\" ): # check vechicle type\n",
    "        if(threshold < attributes[2]):\n",
    "            load_slot_data  = pd.read_excel(\"slots_for_large_cars.xlsx\" )\n",
    "\n",
    "            array = load_slot_data.values\n",
    "            if(array.shape[0] == 0 ):\n",
    "                return \"Full Parking !!\"\n",
    "            slot = array[0]\n",
    "#             print(array)\n",
    "#             print(slot)\n",
    "            array = array[1:]\n",
    "            arrray = np.array(array)\n",
    "            frame = pd.DataFrame(array)\n",
    "            frame.to_excel(\"slots_for_large_cars.xlsx\",index=False)\n",
    "            return slot\n",
    "        else:\n",
    "            load_slot_data  = pd.read_excel(\"slots_for_small_cars.xlsx\")\n",
    "\n",
    "            array = load_slot_data.values\n",
    "               \n",
    "            if(array.shape[0] == 0 ):\n",
    "                load_slot_for_large_car  = pd.read_excel(\"slots_for_large_cars.xlsx\")\n",
    "                array2 = load_slot_for_large_car.values\n",
    "                if(array2.shape[0] == 0 ):\n",
    "                    return \"Full Parking !!\"\n",
    "                else:\n",
    "                    return \"Extra charges may apply\"\n",
    "            slot = array[0]\n",
    "#             print(array)\n",
    "#             print(slot)\n",
    "            array = array[1:]\n",
    "            arrray = np.array(array)\n",
    "            frame = pd.DataFrame(array)\n",
    "            frame.to_excel(\"slots_for_small_car.xlsx\",index=False)\n",
    "            return slot"
   ]
  },
  {
   "cell_type": "code",
   "execution_count": 37,
   "metadata": {},
   "outputs": [],
   "source": [
    "a= [\"s1\",\"s2\",\"s3\",\"s4\",\"s5\"]\n",
    "frame = pd.DataFrame(a)\n",
    "frame.head()\n",
    "frame.to_excel(\"slots_for_large_cars.xlsx\",index=False)"
   ]
  },
  {
   "cell_type": "code",
   "execution_count": 38,
   "metadata": {},
   "outputs": [
    {
     "data": {
      "text/html": [
       "<div>\n",
       "<style scoped>\n",
       "    .dataframe tbody tr th:only-of-type {\n",
       "        vertical-align: middle;\n",
       "    }\n",
       "\n",
       "    .dataframe tbody tr th {\n",
       "        vertical-align: top;\n",
       "    }\n",
       "\n",
       "    .dataframe thead th {\n",
       "        text-align: right;\n",
       "    }\n",
       "</style>\n",
       "<table border=\"1\" class=\"dataframe\">\n",
       "  <thead>\n",
       "    <tr style=\"text-align: right;\">\n",
       "      <th></th>\n",
       "      <th>0</th>\n",
       "    </tr>\n",
       "  </thead>\n",
       "  <tbody>\n",
       "    <tr>\n",
       "      <th>0</th>\n",
       "      <td>s1</td>\n",
       "    </tr>\n",
       "    <tr>\n",
       "      <th>1</th>\n",
       "      <td>s2</td>\n",
       "    </tr>\n",
       "    <tr>\n",
       "      <th>2</th>\n",
       "      <td>s3</td>\n",
       "    </tr>\n",
       "    <tr>\n",
       "      <th>3</th>\n",
       "      <td>s4</td>\n",
       "    </tr>\n",
       "    <tr>\n",
       "      <th>4</th>\n",
       "      <td>s5</td>\n",
       "    </tr>\n",
       "  </tbody>\n",
       "</table>\n",
       "</div>"
      ],
      "text/plain": [
       "    0\n",
       "0  s1\n",
       "1  s2\n",
       "2  s3\n",
       "3  s4\n",
       "4  s5"
      ]
     },
     "execution_count": 38,
     "metadata": {},
     "output_type": "execute_result"
    }
   ],
   "source": [
    "frame"
   ]
  },
  {
   "cell_type": "code",
   "execution_count": 39,
   "metadata": {},
   "outputs": [],
   "source": [
    "def giveSlot(Plate):\n",
    "    slot = bookslot(Plate)\n",
    "    \n",
    "    ll =list(pd.read_excel(\"plate_nos.xlsx\").values)\n",
    "    s=time.localtime()\n",
    "    ll.append((Plate ,int(s[3]*60+s[4]) , slot[0]))\n",
    "    array = np.array(ll)\n",
    "    frame = pd.DataFrame(array)\n",
    "    frame.to_excel(\"plate_nos.xlsx\",index=False)\n",
    "    \n",
    "    ll = [slot]\n",
    "    array = np.array(ll)\n",
    "    frame = pd.DataFrame(array)\n",
    "    frame.to_excel(\"slot.xlsx\",index=False)\n",
    "    print(slot)"
   ]
  },
  {
   "cell_type": "code",
   "execution_count": 34,
   "metadata": {},
   "outputs": [
    {
     "name": "stdout",
     "output_type": "stream",
     "text": [
      "[['DL123' 'car' 6]]\n",
      "['s1']\n"
     ]
    }
   ],
   "source": [
    "giveSlot(\"DL123\")"
   ]
  },
  {
   "cell_type": "code",
   "execution_count": 35,
   "metadata": {},
   "outputs": [],
   "source": [
    "import time"
   ]
  },
  {
   "cell_type": "code",
   "execution_count": 46,
   "metadata": {},
   "outputs": [],
   "source": [
    "s=time.localtime()"
   ]
  },
  {
   "cell_type": "code",
   "execution_count": 29,
   "metadata": {},
   "outputs": [
    {
     "data": {
      "text/plain": [
       "time.struct_time"
      ]
     },
     "execution_count": 29,
     "metadata": {},
     "output_type": "execute_result"
    }
   ],
   "source": [
    "type(s)"
   ]
  },
  {
   "cell_type": "code",
   "execution_count": 34,
   "metadata": {},
   "outputs": [
    {
     "data": {
      "text/plain": [
       "15"
      ]
     },
     "execution_count": 34,
     "metadata": {},
     "output_type": "execute_result"
    }
   ],
   "source": [
    "s[4]"
   ]
  },
  {
   "cell_type": "code",
   "execution_count": 19,
   "metadata": {},
   "outputs": [],
   "source": [
    "text =\"hj ghjk\""
   ]
  },
  {
   "cell_type": "code",
   "execution_count": 20,
   "metadata": {},
   "outputs": [],
   "source": [
    "text=text.replace(\" \",\"\")"
   ]
  },
  {
   "cell_type": "code",
   "execution_count": 21,
   "metadata": {},
   "outputs": [
    {
     "data": {
      "text/plain": [
       "'hjghjk'"
      ]
     },
     "execution_count": 21,
     "metadata": {},
     "output_type": "execute_result"
    }
   ],
   "source": [
    "text"
   ]
  },
  {
   "cell_type": "code",
   "execution_count": null,
   "metadata": {},
   "outputs": [],
   "source": []
  }
 ],
 "metadata": {
  "kernelspec": {
   "display_name": "Python 3",
   "language": "python",
   "name": "python3"
  },
  "language_info": {
   "codemirror_mode": {
    "name": "ipython",
    "version": 3
   },
   "file_extension": ".py",
   "mimetype": "text/x-python",
   "name": "python",
   "nbconvert_exporter": "python",
   "pygments_lexer": "ipython3",
   "version": "3.6.6"
  }
 },
 "nbformat": 4,
 "nbformat_minor": 2
}
