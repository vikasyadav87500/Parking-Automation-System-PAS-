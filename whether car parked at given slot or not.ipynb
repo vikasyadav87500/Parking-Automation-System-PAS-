{
 "cells": [
  {
   "cell_type": "code",
   "execution_count": 2,
   "metadata": {},
   "outputs": [],
   "source": [
    "import numpy as np\n",
    "import pandas as pd\n",
    "import time\n",
    "import cv2\n",
    "from firebase import firebase"
   ]
  },
  {
   "cell_type": "code",
   "execution_count": 90,
   "metadata": {},
   "outputs": [],
   "source": [
    "def correct_text(plate_no):\n",
    "    plate_no = plate_no.split()\n",
    "    plate_no = \"\".join(plate_no)\n",
    "    ans = str(\"\")\n",
    "    count = 1\n",
    "    for ch in plate_no:\n",
    "        if (ch>='A' and ch<='Z') or (ch>='0'and ch<='9'):\n",
    "            ans = ans + str(ch)\n",
    "            count = count+1\n",
    "    print(ans)\n",
    "    return ans"
   ]
  },
  {
   "cell_type": "code",
   "execution_count": 91,
   "metadata": {},
   "outputs": [],
   "source": [
    "def  check_whether_parked_at_another_slot(plate_no):\n",
    "    import firebase as firebase2\n",
    "    firebase_slots = firebase2.FirebaseApplication(\"https://check-in-bad3b.firebaseio.com/\")\n",
    "        \n",
    "        \n",
    "    for slot_type in np.array([\"large slots\",\"small slots\"]):\n",
    "        slots_in_particular = firebase.get(\"/\"+str(slot_type),None)\n",
    "\n",
    "        for slot in slots_in_particular.keys() :\n",
    "            if(slots_in_particular[slot]==\"False\"):\n",
    "                continue\n",
    "            import xyz\n",
    "#            iscar , detected_plate , isplate = xyz.get_text_of_plate(\"C:\\\\Users\\\\VISHESH JAIN\\\\Desktop\\\\sih\\\\final model\\\\footage\"+str(slot_type)+\"\\\\\"+str(slot)+\".mp4\")\n",
    "            detected_plate = xyz.get_text_of_plate(\"C:\\\\Users\\\\VISHESH JAIN\\\\Desktop\\\\sih\\\\final model\\\\footage\"+str(slot_type)+\"\\\\\"+str(slot)+\".mp4\")\n",
    "            isplate = True\n",
    "            detected_plate = correct_text(detected_plate)\n",
    "            if(isplate and plate_no == detected_plate):    \n",
    "                return \"parked at slot \"+str(slot)\n",
    "            return \"not parked at another slot\"\n"
   ]
  },
  {
   "cell_type": "code",
   "execution_count": 5,
   "metadata": {},
   "outputs": [
    {
     "name": "stdout",
     "output_type": "stream",
     "text": [
      "['629', '1234']\n",
      "(1080, 2336)\n"
     ]
    },
    {
     "ename": "UnboundLocalError",
     "evalue": "local variable 'plt' referenced before assignment",
     "output_type": "error",
     "traceback": [
      "\u001b[1;31m---------------------------------------------------------------------------\u001b[0m",
      "\u001b[1;31mUnboundLocalError\u001b[0m                         Traceback (most recent call last)",
      "\u001b[1;32m<ipython-input-5-2902733bc31c>\u001b[0m in \u001b[0;36m<module>\u001b[1;34m\u001b[0m\n\u001b[0;32m     14\u001b[0m \u001b[1;33m\u001b[0m\u001b[0m\n\u001b[0;32m     15\u001b[0m         \u001b[1;32mimport\u001b[0m \u001b[0mxyz\u001b[0m\u001b[1;33m\u001b[0m\u001b[0m\n\u001b[1;32m---> 16\u001b[1;33m         \u001b[0mslot_plate_no\u001b[0m \u001b[1;33m=\u001b[0m \u001b[0mxyz\u001b[0m\u001b[1;33m.\u001b[0m\u001b[0mget_text_of_plate\u001b[0m\u001b[1;33m(\u001b[0m\u001b[1;34m\"C:\\\\Users\\\\VISHESH JAIN\\\\Desktop\\\\sih\\\\final model\\\\4.mp4\"\u001b[0m\u001b[1;33m)\u001b[0m\u001b[1;33m\u001b[0m\u001b[0m\n\u001b[0m\u001b[0;32m     17\u001b[0m         \u001b[0mget_key\u001b[0m  \u001b[1;33m=\u001b[0m  \u001b[0mfirebase1\u001b[0m\u001b[1;33m.\u001b[0m\u001b[0mget\u001b[0m\u001b[1;33m(\u001b[0m\u001b[1;34m\"/time/\"\u001b[0m\u001b[1;33m+\u001b[0m\u001b[0mstr\u001b[0m\u001b[1;33m(\u001b[0m\u001b[0mkeys\u001b[0m\u001b[1;33m[\u001b[0m\u001b[1;36m0\u001b[0m\u001b[1;33m]\u001b[0m\u001b[1;33m)\u001b[0m\u001b[1;33m,\u001b[0m\u001b[1;32mNone\u001b[0m\u001b[1;33m)\u001b[0m\u001b[1;33m\u001b[0m\u001b[0m\n\u001b[0;32m     18\u001b[0m         \u001b[0mget_plate\u001b[0m  \u001b[1;33m=\u001b[0m \u001b[0mfirebase1\u001b[0m\u001b[1;33m.\u001b[0m\u001b[0mget\u001b[0m\u001b[1;33m(\u001b[0m\u001b[1;34m\"/Car Parking/\"\u001b[0m\u001b[1;33m+\u001b[0m\u001b[0mstr\u001b[0m\u001b[1;33m(\u001b[0m\u001b[0mt\u001b[0m\u001b[1;33m[\u001b[0m\u001b[1;36m2\u001b[0m\u001b[1;33m]\u001b[0m\u001b[1;33m)\u001b[0m\u001b[1;33m+\u001b[0m\u001b[1;34m\"-\"\u001b[0m\u001b[1;33m+\u001b[0m\u001b[0mstr\u001b[0m\u001b[1;33m(\u001b[0m\u001b[0mt\u001b[0m\u001b[1;33m[\u001b[0m\u001b[1;36m1\u001b[0m\u001b[1;33m]\u001b[0m\u001b[1;33m)\u001b[0m\u001b[1;33m+\u001b[0m\u001b[1;34m\"-\"\u001b[0m\u001b[1;33m+\u001b[0m\u001b[0mstr\u001b[0m\u001b[1;33m(\u001b[0m\u001b[0mt\u001b[0m\u001b[1;33m[\u001b[0m\u001b[1;36m0\u001b[0m\u001b[1;33m]\u001b[0m\u001b[1;33m)\u001b[0m\u001b[1;33m+\u001b[0m\u001b[1;34m\"/\"\u001b[0m\u001b[1;33m+\u001b[0m\u001b[0mstr\u001b[0m\u001b[1;33m(\u001b[0m\u001b[0mget_key\u001b[0m\u001b[1;33m)\u001b[0m \u001b[1;33m+\u001b[0m\u001b[1;34m\"carNumber\"\u001b[0m\u001b[1;33m,\u001b[0m \u001b[1;32mNone\u001b[0m\u001b[1;33m)\u001b[0m\u001b[1;33m\u001b[0m\u001b[0m\n",
      "\u001b[1;32m~\\Desktop\\sih\\final model\\xyz.py\u001b[0m in \u001b[0;36mget_text_of_plate\u001b[1;34m(path)\u001b[0m\n\u001b[0;32m     39\u001b[0m \u001b[1;33m\u001b[0m\u001b[0m\n\u001b[0;32m     40\u001b[0m     \u001b[0mgray_car_image\u001b[0m \u001b[1;33m=\u001b[0m \u001b[0mcar_image\u001b[0m \u001b[1;33m*\u001b[0m \u001b[1;36m255\u001b[0m\u001b[1;33m\u001b[0m\u001b[0m\n\u001b[1;32m---> 41\u001b[1;33m     \u001b[0mfig\u001b[0m\u001b[1;33m,\u001b[0m \u001b[1;33m(\u001b[0m\u001b[0max1\u001b[0m\u001b[1;33m,\u001b[0m \u001b[0max2\u001b[0m\u001b[1;33m)\u001b[0m \u001b[1;33m=\u001b[0m \u001b[0mplt\u001b[0m\u001b[1;33m.\u001b[0m\u001b[0msubplots\u001b[0m\u001b[1;33m(\u001b[0m\u001b[1;36m1\u001b[0m\u001b[1;33m,\u001b[0m \u001b[1;36m2\u001b[0m\u001b[1;33m)\u001b[0m\u001b[1;33m\u001b[0m\u001b[0m\n\u001b[0m\u001b[0;32m     42\u001b[0m     \u001b[0max1\u001b[0m\u001b[1;33m.\u001b[0m\u001b[0mimshow\u001b[0m\u001b[1;33m(\u001b[0m\u001b[0mgray_car_image\u001b[0m\u001b[1;33m,\u001b[0m \u001b[0mcmap\u001b[0m\u001b[1;33m=\u001b[0m\u001b[1;34m\"gray\"\u001b[0m\u001b[1;33m)\u001b[0m\u001b[1;33m\u001b[0m\u001b[0m\n\u001b[0;32m     43\u001b[0m     \u001b[0mthreshold_value\u001b[0m \u001b[1;33m=\u001b[0m \u001b[0mthreshold_otsu\u001b[0m\u001b[1;33m(\u001b[0m\u001b[0mgray_car_image\u001b[0m\u001b[1;33m)\u001b[0m\u001b[1;33m\u001b[0m\u001b[0m\n",
      "\u001b[1;31mUnboundLocalError\u001b[0m: local variable 'plt' referenced before assignment"
     ]
    }
   ],
   "source": [
    "while True:\n",
    "    firebase1 = firebase.FirebaseApplication(\"https://hackitout-6ee0b.firebaseio.com/\")\n",
    "\n",
    "    t= time.localtime()\n",
    "    curr_time =int(t[3]*60+t[4]) \n",
    "    result = firebase1.get(\"/time\",None)\n",
    "    keys = list(result.keys())\n",
    "   \n",
    "    print(keys)\n",
    "    if len(keys)>0 :#and int(keys[0] )+ 15 <=int( curr_time) and int(int(keys[0] +20)>=int(curr_time)) :\n",
    "    \n",
    "\n",
    "        status_of_parking = \"\"\n",
    "        \n",
    "        import xyz\n",
    "        slot_plate_no = xyz.get_text_of_plate(\"C:\\\\Users\\\\VISHESH JAIN\\\\Desktop\\\\sih\\\\final model\\\\4.mp4\")\n",
    "        get_key  =  firebase1.get(\"/time/\"+str(keys[0]),None) \n",
    "        get_plate  = firebase1.get(\"/Car Parking/\"+str(t[2])+\"-\"+str(t[1])+\"-\"+str(t[0])+\"/\"+str(get_key) +\"carNumber\", None)\n",
    "        \n",
    "        slot_plate_no=correct_text(slot_plate_no)\n",
    "        \n",
    "        if(slot_plate_no ==get_plate ):\n",
    "            firebase.delete(\"/time\",keys[0])\n",
    "            print(\"parked at correct slot\")\n",
    "            continue\n",
    "        status_of_parking = check_whether_parked_at_another_slot(get_plate)\n",
    "        print(status_of_parking)\n",
    "        if(status_of_parking == \"not parked at another slot\"):\n",
    "            continue\n",
    "            \n",
    "        \n",
    "        \n",
    "    \n",
    "\n",
    "        \n",
    "        "
   ]
  },
  {
   "cell_type": "code",
   "execution_count": 93,
   "metadata": {},
   "outputs": [
    {
     "data": {
      "text/plain": [
       "time.struct_time(tm_year=2020, tm_mon=1, tm_mday=24, tm_hour=10, tm_min=23, tm_sec=34, tm_wday=4, tm_yday=24, tm_isdst=0)"
      ]
     },
     "execution_count": 93,
     "metadata": {},
     "output_type": "execute_result"
    }
   ],
   "source": [
    "time.localtime()"
   ]
  },
  {
   "cell_type": "code",
   "execution_count": null,
   "metadata": {},
   "outputs": [],
   "source": [
    "def check_parked_correctly_or_not(plate , slot):\n",
    "    \n",
    "    from imutils import paths\n",
    "    import numpy as np\n",
    "    import imutils\n",
    "    import cv2\n",
    "\n",
    "    def find_marker(image):\n",
    "        # convert the image to grayscale, blur it, and detect edges\n",
    "        gray = cv2.cvtColor(image, cv2.COLOR_BGR2GRAY)\n",
    "        gray = cv2.GaussianBlur(gray, (5, 5), 0)\n",
    "        edged = cv2.Canny(gray, 35, 125)\n",
    "\n",
    "        # find the contours in the edged image and keep the largest one;\n",
    "        # we'll assume that this is our piece of paper in the image\n",
    "        cnts = cv2.findContours(edged.copy(), cv2.RETR_LIST, cv2.CHAIN_APPROX_SIMPLE)\n",
    "        cnts = imutils.grab_contours(cnts)\n",
    "        c = max(cnts, key = cv2.contourArea)\n",
    "\n",
    "        # compute the bounding box of the of the paper region and return it\n",
    "        return cv2.minAreaRect(c)\n",
    "\n",
    "    def distance_to_camera(knownWidth, focalLength, perWidth):\n",
    "        # compute and return the distance from the maker to the camera\n",
    "        return (knownWidth * focalLength) / perWidth\n",
    "\n",
    "    # initialize the known distance from the camera to the object, which\n",
    "    # in this case is 24 inches\n",
    "    KNOWN_DISTANCE = 24.0\n",
    "\n",
    "    # initialize the known object width, which in this case, the piece of\n",
    "    # paper is 12 inches wide\n",
    "    KNOWN_WIDTH = 11.0\n",
    "\n",
    "    # load the furst image that contains an object that is KNOWN TO BE 2 feet\n",
    "    # from our camera, then find the paper marker in the image, and initialize\n",
    "    # the focal length\n",
    "    image = cv2.imread(\"images/2ft.png\")\n",
    "    marker = find_marker(image)\n",
    "    focalLength = (marker[1][0] * KNOWN_DISTANCE) / KNOWN_WIDTH\n",
    "\n",
    "    # loop over the images\n",
    "    \n",
    "    # load the image, find the marker in the image, then compute the\n",
    "    # distance to the marker from the camera\n",
    "    image = cv2.imread(imagePath)\n",
    "    marker = find_marker(image)\n",
    "    inches = distance_to_camera(KNOWN_WIDTH, focalLength, marker[1][0])\n",
    "    \n",
    "    \n",
    "    "
   ]
  },
  {
   "cell_type": "code",
   "execution_count": 154,
   "metadata": {},
   "outputs": [],
   "source": [
    "result = firebase1.get(\"/time\",None)\n",
    "keys = list(result.keys())\n"
   ]
  },
  {
   "cell_type": "code",
   "execution_count": 162,
   "metadata": {},
   "outputs": [
    {
     "data": {
      "text/plain": [
       "629"
      ]
     },
     "execution_count": 162,
     "metadata": {},
     "output_type": "execute_result"
    }
   ],
   "source": [
    "int(keys[0])"
   ]
  },
  {
   "cell_type": "code",
   "execution_count": 144,
   "metadata": {},
   "outputs": [],
   "source": []
  },
  {
   "cell_type": "code",
   "execution_count": 145,
   "metadata": {},
   "outputs": [
    {
     "name": "stdout",
     "output_type": "stream",
     "text": [
      "[dict_keys(['615', '1234'])]\n"
     ]
    }
   ],
   "source": []
  },
  {
   "cell_type": "code",
   "execution_count": 150,
   "metadata": {},
   "outputs": [
    {
     "ename": "TypeError",
     "evalue": "Required argument 'dtype' (pos 1) not found",
     "output_type": "error",
     "traceback": [
      "\u001b[1;31m---------------------------------------------------------------------------\u001b[0m",
      "\u001b[1;31mTypeError\u001b[0m                                 Traceback (most recent call last)",
      "\u001b[1;32m<ipython-input-150-4af020e05a3f>\u001b[0m in \u001b[0;36m<module>\u001b[1;34m\u001b[0m\n\u001b[1;32m----> 1\u001b[1;33m \u001b[0mkey\u001b[0m\u001b[1;33m.\u001b[0m\u001b[0mgetfield\u001b[0m\u001b[1;33m(\u001b[0m\u001b[1;33m)\u001b[0m\u001b[1;33m\u001b[0m\u001b[0m\n\u001b[0m",
      "\u001b[1;31mTypeError\u001b[0m: Required argument 'dtype' (pos 1) not found"
     ]
    }
   ],
   "source": []
  },
  {
   "cell_type": "code",
   "execution_count": null,
   "metadata": {},
   "outputs": [],
   "source": []
  }
 ],
 "metadata": {
  "kernelspec": {
   "display_name": "Python 3",
   "language": "python",
   "name": "python3"
  },
  "language_info": {
   "codemirror_mode": {
    "name": "ipython",
    "version": 3
   },
   "file_extension": ".py",
   "mimetype": "text/x-python",
   "name": "python",
   "nbconvert_exporter": "python",
   "pygments_lexer": "ipython3",
   "version": "3.6.6"
  }
 },
 "nbformat": 4,
 "nbformat_minor": 2
}
