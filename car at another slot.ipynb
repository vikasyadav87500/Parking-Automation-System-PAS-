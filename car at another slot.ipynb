{
 "cells": [
  {
   "cell_type": "code",
   "execution_count": 13,
   "metadata": {},
   "outputs": [],
   "source": [
    "import numpy as np"
   ]
  },
  {
   "cell_type": "code",
   "execution_count": 14,
   "metadata": {},
   "outputs": [],
   "source": [
    "from firebase import firebase\n",
    "firebase_slots = firebase.FirebaseApplication(\"https://check-in-bad3b.firebaseio.com/\")"
   ]
  },
  {
   "cell_type": "code",
   "execution_count": 17,
   "metadata": {},
   "outputs": [
    {
     "name": "stdout",
     "output_type": "stream",
     "text": [
      "(1080, 2336)\n"
     ]
    },
    {
     "data": {
      "text/plain": [
       "<Figure size 640x480 with 2 Axes>"
      ]
     },
     "metadata": {},
     "output_type": "display_data"
    },
    {
     "data": {
      "text/plain": [
       "<Figure size 640x480 with 1 Axes>"
      ]
     },
     "metadata": {},
     "output_type": "display_data"
    },
    {
     "data": {
      "text/plain": [
       "<Figure size 640x480 with 1 Axes>"
      ]
     },
     "metadata": {},
     "output_type": "display_data"
    },
    {
     "name": "stdout",
     "output_type": "stream",
     "text": [
      "333 993 431 1409\n",
      "(98, 416, 3)\n"
     ]
    },
    {
     "data": {
      "text/plain": [
       "<Figure size 640x480 with 1 Axes>"
      ]
     },
     "metadata": {},
     "output_type": "display_data"
    },
    {
     "name": "stdout",
     "output_type": "stream",
     "text": [
      "text present in images: ~HR38Z 7660\n",
      "{\"message\":\"Success\",\"result\":[{\"message\":\"Success\",\"input\":\"screenshot.jpg\",\"prediction\":[{\"label\":\"number_plate\",\"xmin\":39,\"ymin\":3,\"xmax\":409,\"ymax\":87,\"score\":0.9992559,\"ocr_text\":\"HR38Z 7660\"}]}]}\n"
     ]
    },
    {
     "ename": "AttributeError",
     "evalue": "module 'xyz' has no attribute 'get_text_of_plate'",
     "output_type": "error",
     "traceback": [
      "\u001b[1;31m---------------------------------------------------------------------------\u001b[0m",
      "\u001b[1;31mAttributeError\u001b[0m                            Traceback (most recent call last)",
      "\u001b[1;32m<ipython-input-17-793fe3e16f2d>\u001b[0m in \u001b[0;36m<module>\u001b[1;34m\u001b[0m\n\u001b[0;32m      6\u001b[0m             \u001b[1;32mcontinue\u001b[0m\u001b[1;33m\u001b[0m\u001b[0m\n\u001b[0;32m      7\u001b[0m         \u001b[1;32mimport\u001b[0m \u001b[0mxyz\u001b[0m\u001b[1;33m\u001b[0m\u001b[0m\n\u001b[1;32m----> 8\u001b[1;33m         \u001b[0miscar\u001b[0m \u001b[1;33m,\u001b[0m \u001b[0mdetected_plate\u001b[0m \u001b[1;33m,\u001b[0m \u001b[0misplate\u001b[0m \u001b[1;33m=\u001b[0m \u001b[0mxyz\u001b[0m\u001b[1;33m.\u001b[0m\u001b[0mget_text_of_plate\u001b[0m\u001b[1;33m(\u001b[0m\u001b[1;34m\"******footage path**********\"\u001b[0m\u001b[1;33m)\u001b[0m\u001b[1;33m\u001b[0m\u001b[0m\n\u001b[0m\u001b[0;32m      9\u001b[0m \u001b[1;33m\u001b[0m\u001b[0m\n\u001b[0;32m     10\u001b[0m         \u001b[1;32mif\u001b[0m\u001b[1;33m(\u001b[0m\u001b[0misplate\u001b[0m \u001b[1;32mand\u001b[0m \u001b[0mplate_no\u001b[0m \u001b[1;33m==\u001b[0m \u001b[0mdetected_plate\u001b[0m\u001b[1;33m)\u001b[0m\u001b[1;33m:\u001b[0m\u001b[1;33m\u001b[0m\u001b[0m\n",
      "\u001b[1;31mAttributeError\u001b[0m: module 'xyz' has no attribute 'get_text_of_plate'"
     ]
    }
   ],
   "source": [
    "for slot_type in np.array([\"large slots\",\"small slots\"]):\n",
    "    slots = firebase.get(\"/\"+str(slot_type),None)\n",
    "    \n",
    "    for slot in slots.keys() :\n",
    "        if(slots[slot]==\"False\"):\n",
    "            continue\n",
    "        import xyz\n",
    "        iscar , detected_plate , isplate = xyz.get_text_of_plate(\"******footage path**********\")\n",
    "\n",
    "        if(isplate and plate_no == detected_plate):    \n",
    "            update_entry(plate_no ,parked_slot)\n",
    "\n",
    "            \n",
    "        \n",
    "    "
   ]
  },
  {
   "cell_type": "code",
   "execution_count": null,
   "metadata": {},
   "outputs": [],
   "source": [
    "\n"
   ]
  }
 ],
 "metadata": {
  "kernelspec": {
   "display_name": "Python 3",
   "language": "python",
   "name": "python3"
  },
  "language_info": {
   "codemirror_mode": {
    "name": "ipython",
    "version": 3
   },
   "file_extension": ".py",
   "mimetype": "text/x-python",
   "name": "python",
   "nbconvert_exporter": "python",
   "pygments_lexer": "ipython3",
   "version": "3.6.6"
  }
 },
 "nbformat": 4,
 "nbformat_minor": 2
}
